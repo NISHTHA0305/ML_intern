{
  "cells": [
    {
      "cell_type": "markdown",
      "id": "31d9a4c9",
      "metadata": {
        "origin_pos": 0,
        "id": "31d9a4c9"
      },
      "source": [
        "# Using Jupyter Notebooks\n",
        ":label:`sec_jupyter`\n",
        "\n",
        "\n",
        "This section describes how to edit and run the code\n",
        "in each section of this book\n",
        "using the Jupyter Notebook. Make sure you have\n",
        "installed Jupyter and downloaded the\n",
        "code as described in\n",
        ":ref:`chap_installation`.\n",
        "If you want to know more about Jupyter see the excellent tutorial in\n",
        "their [documentation](https://jupyter.readthedocs.io/en/latest/).\n",
        "\n",
        "\n",
        "## Editing and Running the Code Locally\n",
        "\n",
        "Suppose that the local path of the book's code is `xx/yy/d2l-en/`. Use the shell to change the directory to this path (`cd xx/yy/d2l-en`) and run the command `jupyter notebook`. If your browser does not do this automatically, open http://localhost:8888 and you will see the interface of Jupyter and all the folders containing the code of the book, as shown in :numref:`fig_jupyter00`.\n",
        "\n",
        "![The folders containing the code of this book.](https://github.com/d2l-ai/d2l-en-colab/blob/master/img/jupyter00.png?raw=1)\n",
        ":width:`600px`\n",
        ":label:`fig_jupyter00`\n",
        "\n",
        "\n",
        "You can access the notebook files by clicking on the folder displayed on the webpage.\n",
        "They usually have the suffix \".ipynb\".\n",
        "For the sake of brevity, we create a temporary \"test.ipynb\" file.\n",
        "The content displayed after you click it is\n",
        "shown in :numref:`fig_jupyter01`.\n",
        "This notebook includes a markdown cell and a code cell. The content in the markdown cell includes \"This Is a Title\" and \"This is text.\".\n",
        "The code cell contains two lines of Python code.\n",
        "\n",
        "![Markdown and code cells in the \"text.ipynb\" file.](https://github.com/d2l-ai/d2l-en-colab/blob/master/img/jupyter01.png?raw=1)\n",
        ":width:`600px`\n",
        ":label:`fig_jupyter01`\n",
        "\n",
        "\n",
        "Double click on the markdown cell to enter edit mode.\n",
        "Add a new text string \"Hello world.\" at the end of the cell, as shown in :numref:`fig_jupyter02`.\n",
        "\n",
        "![Edit the markdown cell.](https://github.com/d2l-ai/d2l-en-colab/blob/master/img/jupyter02.png?raw=1)\n",
        ":width:`600px`\n",
        ":label:`fig_jupyter02`\n",
        "\n",
        "\n",
        "As demonstrated in :numref:`fig_jupyter03`,\n",
        "click \"Cell\" $\\rightarrow$ \"Run Cells\" in the menu bar to run the edited cell.\n",
        "\n",
        "![Run the cell.](https://github.com/d2l-ai/d2l-en-colab/blob/master/img/jupyter03.png?raw=1)\n",
        ":width:`600px`\n",
        ":label:`fig_jupyter03`\n",
        "\n",
        "After running, the markdown cell is shown in :numref:`fig_jupyter04`.\n",
        "\n",
        "![The markdown cell after running.](https://github.com/d2l-ai/d2l-en-colab/blob/master/img/jupyter04.png?raw=1)\n",
        ":width:`600px`\n",
        ":label:`fig_jupyter04`\n",
        "\n",
        "\n",
        "Next, click on the code cell. Multiply the elements by 2 after the last line of code, as shown in :numref:`fig_jupyter05`.\n",
        "\n",
        "![Edit the code cell.](https://github.com/d2l-ai/d2l-en-colab/blob/master/img/jupyter05.png?raw=1)\n",
        ":width:`600px`\n",
        ":label:`fig_jupyter05`\n",
        "\n",
        "\n",
        "You can also run the cell with a shortcut (\"Ctrl + Enter\" by default) and obtain the output result from :numref:`fig_jupyter06`.\n",
        "\n",
        "![Run the code cell to obtain the output.](https://github.com/d2l-ai/d2l-en-colab/blob/master/img/jupyter06.png?raw=1)\n",
        ":width:`600px`\n",
        ":label:`fig_jupyter06`\n",
        "\n",
        "\n",
        "When a notebook contains more cells, we can click \"Kernel\" $\\rightarrow$ \"Restart & Run All\" in the menu bar to run all the cells in the entire notebook. By clicking \"Help\" $\\rightarrow$ \"Edit Keyboard Shortcuts\" in the menu bar, you can edit the shortcuts according to your preferences.\n",
        "\n",
        "## Advanced Options\n",
        "\n",
        "Beyond local editing two things are quite important: editing the notebooks in the markdown format and running Jupyter remotely.\n",
        "The latter matters when we want to run the code on a faster server.\n",
        "The former matters since Jupyter's native ipynb format stores a lot of auxiliary data that is\n",
        "irrelevant to the content,\n",
        "mostly related to how and where the code is run.\n",
        "This is confusing for Git, making\n",
        "reviewing contributions very difficult.\n",
        "Fortunately there is an alternative---native editing in the markdown format.\n",
        "\n",
        "### Markdown Files in Jupyter\n",
        "\n",
        "If you wish to contribute to the content of this book, you need to modify the\n",
        "source file (md file, not ipynb file) on GitHub.\n",
        "Using the notedown plugin we\n",
        "can modify notebooks in the md format directly in Jupyter.\n",
        "\n",
        "\n",
        "First, install the notedown plugin, run the Jupyter Notebook, and load the plugin:\n",
        "\n",
        "```\n",
        "pip install d2l-notedown  # You may need to uninstall the original notedown.\n",
        "jupyter notebook --NotebookApp.contents_manager_class='notedown.NotedownContentsManager'\n",
        "```\n",
        "\n",
        "You may also turn on the notedown plugin by default whenever you run the Jupyter Notebook.\n",
        "First, generate a Jupyter Notebook configuration file (if it has already been generated, you can skip this step).\n",
        "\n",
        "```\n",
        "jupyter notebook --generate-config\n",
        "```\n",
        "\n",
        "Then, add the following line to the end of the Jupyter Notebook configuration file (for Linux or macOS, usually in the path `~/.jupyter/jupyter_notebook_config.py`):\n",
        "\n",
        "```\n",
        "c.NotebookApp.contents_manager_class = 'notedown.NotedownContentsManager'\n",
        "```\n",
        "\n",
        "After that, you only need to run the `jupyter notebook` command to turn on the notedown plugin by default.\n",
        "\n",
        "### Running Jupyter Notebooks on a Remote Server\n",
        "\n",
        "Sometimes, you may want to run Jupyter notebooks on a remote server and access it through a browser on your local computer. If Linux or macOS is installed on your local machine (Windows can also support this function through third-party software such as PuTTY), you can use port forwarding:\n",
        "\n",
        "```\n",
        "ssh myserver -L 8888:localhost:8888\n",
        "```\n",
        "\n",
        "The above string `myserver` is the address of the remote server.\n",
        "Then we can use http://localhost:8888 to access the remote server `myserver` that runs Jupyter notebooks. We will detail on how to run Jupyter notebooks on AWS instances\n",
        "later in this appendix.\n",
        "\n",
        "### Timing\n",
        "\n",
        "We can use the `ExecuteTime` plugin to time the execution of each code cell in Jupyter notebooks.\n",
        "Use the following commands to install the plugin:\n",
        "\n",
        "```\n",
        "pip install jupyter_contrib_nbextensions\n",
        "jupyter contrib nbextension install --user\n",
        "jupyter nbextension enable execute_time/ExecuteTime\n",
        "```\n",
        "\n",
        "## Summary\n",
        "\n",
        "* Using the Jupyter Notebook tool, we can edit, run, and contribute to each section of the book.\n",
        "* We can run Jupyter notebooks on remote servers using port forwarding.\n",
        "\n",
        "\n",
        "## Exercises\n",
        "\n",
        "1. Edit and run the code in this book with the Jupyter Notebook on your local machine.\n",
        "1. Edit and run the code in this book with the Jupyter Notebook *remotely* via port forwarding.\n",
        "1. Compare the running time of the operations $\\mathbf{A}^\\top \\mathbf{B}$ and $\\mathbf{A} \\mathbf{B}$ for two square matrices in $\\mathbb{R}^{1024 \\times 1024}$. Which one is faster?\n",
        "\n",
        "\n",
        "[Discussions](https://discuss.d2l.ai/t/421)\n"
      ]
    },
    {
      "cell_type": "code",
      "source": [
        "import numpy as np\n",
        "a= np.array([1,2,3])\n",
        "b= np.array([4,5,6])\n",
        "dot= np.dot(a,b)\n",
        "print(dot)\n"
      ],
      "metadata": {
        "colab": {
          "base_uri": "https://localhost:8080/"
        },
        "id": "tHjFaL_fkcOc",
        "outputId": "c06c8e4f-8199-4767-95ab-7f0cc3146d9a"
      },
      "id": "tHjFaL_fkcOc",
      "execution_count": 38,
      "outputs": [
        {
          "output_type": "stream",
          "name": "stdout",
          "text": [
            "32\n"
          ]
        }
      ]
    },
    {
      "cell_type": "code",
      "source": [],
      "metadata": {
        "id": "nG7UGQ-5utRf"
      },
      "id": "nG7UGQ-5utRf",
      "execution_count": 38,
      "outputs": []
    },
    {
      "cell_type": "code",
      "source": [
        "id= np.identity(5, dtype=float)\n",
        "print(\"identity matrix \\n\" ,id)"
      ],
      "metadata": {
        "colab": {
          "base_uri": "https://localhost:8080/"
        },
        "id": "2Hv_V3gsrYTS",
        "outputId": "3c599270-ec01-4213-eac4-173ec672a6fd"
      },
      "id": "2Hv_V3gsrYTS",
      "execution_count": 39,
      "outputs": [
        {
          "output_type": "stream",
          "name": "stdout",
          "text": [
            "identity matrix \n",
            " [[1. 0. 0. 0. 0.]\n",
            " [0. 1. 0. 0. 0.]\n",
            " [0. 0. 1. 0. 0.]\n",
            " [0. 0. 0. 1. 0.]\n",
            " [0. 0. 0. 0. 1.]]\n"
          ]
        }
      ]
    },
    {
      "cell_type": "code",
      "source": [
        "div= np.arange(10,51)\n",
        "div_five= div[div % 5 == 0]\n",
        "print(div_five)"
      ],
      "metadata": {
        "colab": {
          "base_uri": "https://localhost:8080/"
        },
        "id": "_Wh0Cu_Prg4O",
        "outputId": "939bf770-1cac-4eef-fde1-54865e95903a"
      },
      "id": "_Wh0Cu_Prg4O",
      "execution_count": 40,
      "outputs": [
        {
          "output_type": "stream",
          "name": "stdout",
          "text": [
            "[10 15 20 25 30 35 40 45 50]\n"
          ]
        }
      ]
    },
    {
      "cell_type": "code",
      "source": [
        "c= np.array([[10 ,20 , 43],\n",
        "             [2, 95,95],\n",
        "             [25, 41, 9]])\n",
        "max_1 =np.max(c ,axis=1)\n",
        "print(max_1)"
      ],
      "metadata": {
        "colab": {
          "base_uri": "https://localhost:8080/"
        },
        "id": "2p5-yjoIsM1W",
        "outputId": "51d392c0-f5be-473b-bf50-e28755fb136a"
      },
      "id": "2p5-yjoIsM1W",
      "execution_count": 41,
      "outputs": [
        {
          "output_type": "stream",
          "name": "stdout",
          "text": [
            "[43 95 41]\n"
          ]
        }
      ]
    },
    {
      "cell_type": "code",
      "source": [
        "d= np.array([[90 ,20 , 43, 32],\n",
        "             [2, 89 ,95, 56],\n",
        "             [25, 41, 9, 11],\n",
        "             [11, 34, 54 ,53]])\n",
        "np.fill_diagonal(d,9)\n",
        "print(d)"
      ],
      "metadata": {
        "colab": {
          "base_uri": "https://localhost:8080/"
        },
        "id": "XqRFgy-PwW72",
        "outputId": "e0677e19-21c6-43ff-a7d6-bde4d1973f07"
      },
      "id": "XqRFgy-PwW72",
      "execution_count": 42,
      "outputs": [
        {
          "output_type": "stream",
          "name": "stdout",
          "text": [
            "[[ 9 20 43 32]\n",
            " [ 2  9 95 56]\n",
            " [25 41  9 11]\n",
            " [11 34 54  9]]\n"
          ]
        }
      ]
    },
    {
      "cell_type": "code",
      "source": [],
      "metadata": {
        "id": "D80oui1G0944"
      },
      "id": "D80oui1G0944",
      "execution_count": 42,
      "outputs": []
    },
    {
      "cell_type": "code",
      "source": [
        "arr1= np.random.randint(1, 100 , size=(10 ,10))\n",
        "print(\"before\\n\" , arr1)\n",
        "even_erased = np.where( arr1 % 2 == 0 ,0 , arr1)\n",
        "print(\"after\\n\" , even_erased)"
      ],
      "metadata": {
        "colab": {
          "base_uri": "https://localhost:8080/"
        },
        "id": "dK9KT_x2xmu1",
        "outputId": "06d99b98-a1f4-4747-d1c9-6314539415f7"
      },
      "id": "dK9KT_x2xmu1",
      "execution_count": 45,
      "outputs": [
        {
          "output_type": "stream",
          "name": "stdout",
          "text": [
            "before\n",
            " [[42 80 45 53 96 39 95 39 28 84]\n",
            " [25 99 18 19 41 22 67 40 27 26]\n",
            " [49 84 19 77 37 61 27 32 30 72]\n",
            " [61 41 12 13 14 87 96 12 33 93]\n",
            " [77 57 85 64 64  3 80 19 13 27]\n",
            " [74 38 11 67 36 83 62 76 60 11]\n",
            " [79 75 49 25 64 11 39 59 20 41]\n",
            " [63 91  9  2  3 67 66 64 63 78]\n",
            " [39 71 16 36 78 38 48 41 83 37]\n",
            " [23 53 95 65 42 96 36 55 53 46]]\n",
            "after\n",
            " [[ 0  0 45 53  0 39 95 39  0  0]\n",
            " [25 99  0 19 41  0 67  0 27  0]\n",
            " [49  0 19 77 37 61 27  0  0  0]\n",
            " [61 41  0 13  0 87  0  0 33 93]\n",
            " [77 57 85  0  0  3  0 19 13 27]\n",
            " [ 0  0 11 67  0 83  0  0  0 11]\n",
            " [79 75 49 25  0 11 39 59  0 41]\n",
            " [63 91  9  0  3 67  0  0 63  0]\n",
            " [39 71  0  0  0  0  0 41 83 37]\n",
            " [23 53 95 65  0  0  0 55 53  0]]\n"
          ]
        }
      ]
    },
    {
      "cell_type": "code",
      "source": [
        "e= [1,2,3]\n",
        "f=[1,2,3]\n",
        "def compare_arr(arr1, arr2):\n",
        "  return np.array_equal(arr1,arr2)\n",
        "print(compare_arr(e,f))"
      ],
      "metadata": {
        "colab": {
          "base_uri": "https://localhost:8080/"
        },
        "id": "kLO9ZUNo2Yh3",
        "outputId": "7e3ba5d7-75ff-4966-9123-2bbabcd0b4f1"
      },
      "id": "kLO9ZUNo2Yh3",
      "execution_count": 49,
      "outputs": [
        {
          "output_type": "stream",
          "name": "stdout",
          "text": [
            "True\n"
          ]
        }
      ]
    },
    {
      "cell_type": "code",
      "source": [
        "flattened = c.flatten()\n",
        "reshaped =flattened.reshape(c.shape)\n",
        "print(flattened)\n",
        "print(reshaped)"
      ],
      "metadata": {
        "colab": {
          "base_uri": "https://localhost:8080/"
        },
        "id": "BomBvSEE3NIC",
        "outputId": "368e347e-7b17-4944-ab45-040fb0c59152"
      },
      "id": "BomBvSEE3NIC",
      "execution_count": 51,
      "outputs": [
        {
          "output_type": "stream",
          "name": "stdout",
          "text": [
            "[10 20 43  2 95 95 25 41  9]\n",
            "[[10 20 43]\n",
            " [ 2 95 95]\n",
            " [25 41  9]]\n"
          ]
        }
      ]
    },
    {
      "cell_type": "code",
      "source": [
        "mean= np.mean(arr1)\n",
        "mean= np.mean(arr1)\n",
        "median =np.median(arr1)\n",
        "std =np.std(arr1)\n",
        "print(mean, \"\\n\" , median, \"\\n\" , std, \"\\n\")"
      ],
      "metadata": {
        "colab": {
          "base_uri": "https://localhost:8080/"
        },
        "id": "7V72J0Fn9Isy",
        "outputId": "0ca4cf22-8095-4d3b-b506-714282a4829b"
      },
      "id": "7V72J0Fn9Isy",
      "execution_count": 56,
      "outputs": [
        {
          "output_type": "stream",
          "name": "stdout",
          "text": [
            "49.61 \n",
            " 47.0 \n",
            " 26.37722312905587 \n",
            "\n"
          ]
        }
      ]
    },
    {
      "cell_type": "code",
      "source": [
        "zero_arr= np.zeros((6,6),dtype =int)\n",
        "zero_arr[0,:]= 1\n",
        "zero_arr[-1,:]= 1\n",
        "zero_arr[:,0]= 1\n",
        "zero_arr[:,-1]= 1\n",
        "print(zero_arr)\n"
      ],
      "metadata": {
        "id": "vK5Mn_mQ_fJZ",
        "outputId": "8b0c4414-74d3-4e91-8ab0-577be24b5012",
        "colab": {
          "base_uri": "https://localhost:8080/"
        }
      },
      "id": "vK5Mn_mQ_fJZ",
      "execution_count": 57,
      "outputs": [
        {
          "output_type": "stream",
          "name": "stdout",
          "text": [
            "[[1 1 1 1 1 1]\n",
            " [1 0 0 0 0 1]\n",
            " [1 0 0 0 0 1]\n",
            " [1 0 0 0 0 1]\n",
            " [1 0 0 0 0 1]\n",
            " [1 1 1 1 1 1]]\n"
          ]
        }
      ]
    }
  ],
  "metadata": {
    "kernelspec": {
      "display_name": "Python 3",
      "name": "python3"
    },
    "language_info": {
      "name": "python"
    },
    "required_libs": [],
    "colab": {
      "provenance": []
    }
  },
  "nbformat": 4,
  "nbformat_minor": 5
}