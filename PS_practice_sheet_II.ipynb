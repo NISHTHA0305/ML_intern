{
  "nbformat": 4,
  "nbformat_minor": 0,
  "metadata": {
    "colab": {
      "provenance": [],
      "authorship_tag": "ABX9TyPOLXzTJCfx94jS/UeWVUJV",
      "include_colab_link": true
    },
    "kernelspec": {
      "name": "python3",
      "display_name": "Python 3"
    },
    "language_info": {
      "name": "python"
    }
  },
  "cells": [
    {
      "cell_type": "markdown",
      "metadata": {
        "id": "view-in-github",
        "colab_type": "text"
      },
      "source": [
        "<a href=\"https://colab.research.google.com/github/NISHTHA0305/NISHTHA0305.github.io/blob/main/PS_practice_sheet_II.ipynb\" target=\"_parent\"><img src=\"https://colab.research.google.com/assets/colab-badge.svg\" alt=\"Open In Colab\"/></a>"
      ]
    },
    {
      "cell_type": "code",
      "execution_count": null,
      "metadata": {
        "colab": {
          "base_uri": "https://localhost:8080/"
        },
        "id": "XCdOOy6oUNu3",
        "outputId": "70dc9ac1-0a03-4467-b26b-605ac2cc6145"
      },
      "outputs": [
        {
          "output_type": "stream",
          "name": "stdout",
          "text": [
            "[[[4 4 2]\n",
            "  [2 7 9]\n",
            "  [5 3 2]]\n",
            "\n",
            " [[5 5 9]\n",
            "  [2 3 5]\n",
            "  [7 7 6]]\n",
            "\n",
            " [[4 3 4]\n",
            "  [3 3 2]\n",
            "  [2 8 6]]]\n",
            "[[13 12 15]\n",
            " [ 7 13 16]\n",
            " [14 18 14]]\n",
            "[[11 14 13]\n",
            " [14 15 20]\n",
            " [ 9 14 12]]\n",
            "[[10 18 10]\n",
            " [19 10 20]\n",
            " [11  8 16]]\n"
          ]
        }
      ],
      "source": [
        "import numpy as np\n",
        "arr1=np.random.randint(1,10,size=(3,3,3))\n",
        "print(arr1)\n",
        "sum1=np.sum(arr1,axis=0)\n",
        "print(sum1)\n",
        "sum2=np.sum(arr1,axis=1)\n",
        "print(sum2)\n",
        "sum3=np.sum(arr1,axis=2)\n",
        "print(sum3)\n"
      ]
    },
    {
      "cell_type": "code",
      "source": [
        "import numpy as np\n",
        "import random\n",
        "arr3=np.random.randint(1,10,size=(5,5))\n",
        "arr2=np.random.randint(1,20,size=(5,5))\n",
        "print(arr1)\n",
        "print(arr2)\n",
        "new_arr=np.where(arr3<arr2, 0,arr3)\n",
        "print(new_arr)\n"
      ],
      "metadata": {
        "colab": {
          "base_uri": "https://localhost:8080/"
        },
        "id": "4PWwr2K8ceMq",
        "outputId": "191b48f2-9131-4554-d2de-350448f9a09d"
      },
      "execution_count": null,
      "outputs": [
        {
          "output_type": "stream",
          "name": "stdout",
          "text": [
            "[[[4 4 2]\n",
            "  [2 7 9]\n",
            "  [5 3 2]]\n",
            "\n",
            " [[5 5 9]\n",
            "  [2 3 5]\n",
            "  [7 7 6]]\n",
            "\n",
            " [[4 3 4]\n",
            "  [3 3 2]\n",
            "  [2 8 6]]]\n",
            "[[ 1  4 15 19 13]\n",
            " [18  2  1  4  4]\n",
            " [18  8 10 14 16]\n",
            " [ 3 11 17  6 10]\n",
            " [ 3  7  7 12 18]]\n",
            "[[3 5 0 0 0]\n",
            " [0 6 8 5 0]\n",
            " [0 0 0 0 0]\n",
            " [6 0 0 7 0]\n",
            " [0 0 0 0 0]]\n"
          ]
        }
      ]
    },
    {
      "cell_type": "code",
      "source": [
        "import numpy as np\n",
        "import pandas as pd\n",
        "def moving_average(arr):\n",
        "  kernel=np.ones(3)/3\n",
        "  return np.convolve(arr,kernel,mode='valid')\n",
        "moving_average([1,2,3,98,65,4,3])"
      ],
      "metadata": {
        "colab": {
          "base_uri": "https://localhost:8080/"
        },
        "id": "TAl3JqughYC4",
        "outputId": "4fc56404-d21a-4628-93d7-00aea36fecff"
      },
      "execution_count": null,
      "outputs": [
        {
          "output_type": "execute_result",
          "data": {
            "text/plain": [
              "array([ 2.        , 34.33333333, 55.33333333, 55.66666667, 24.        ])"
            ]
          },
          "metadata": {},
          "execution_count": 27
        }
      ]
    },
    {
      "cell_type": "code",
      "source": [
        "import numpy as np\n",
        "from scipy.spatial import distance_matrix\n",
        "\n",
        "def euclidean_distance(arr1,arr2):\n",
        "  return distance_matrix(arr1,arr2)\n",
        "\n",
        "euclidean_distance([[1,2,3],[4,5,6]],[[7,8,9],[10,11,12]])\n"
      ],
      "metadata": {
        "colab": {
          "base_uri": "https://localhost:8080/"
        },
        "id": "2LPt3FmejOxD",
        "outputId": "2c7a58e6-bc95-4a07-82fb-7caf74c1a5d2"
      },
      "execution_count": null,
      "outputs": [
        {
          "output_type": "execute_result",
          "data": {
            "text/plain": [
              "array([[10.39230485, 15.58845727],\n",
              "       [ 5.19615242, 10.39230485]])"
            ]
          },
          "metadata": {},
          "execution_count": 29
        }
      ]
    },
    {
      "cell_type": "code",
      "source": [
        "import numpy as np\n",
        "import random\n",
        "arr1=np.random.randint(1,100, size=(3,3))\n",
        "print(arr1)\n",
        "max_in_row=np.max(arr1,axis=0)\n",
        "max_in_col=np.max(arr1,axis=1)\n",
        "print(max_in_row)\n",
        "print(max_in_col)"
      ],
      "metadata": {
        "colab": {
          "base_uri": "https://localhost:8080/"
        },
        "id": "RkJYyxZMoO0K",
        "outputId": "388018c3-d878-4e46-f473-896c559d060a"
      },
      "execution_count": null,
      "outputs": [
        {
          "output_type": "stream",
          "name": "stdout",
          "text": [
            "[[16 76 18]\n",
            " [42 93 37]\n",
            " [96 32 29]]\n",
            "[96 93 37]\n",
            "[76 93 96]\n"
          ]
        }
      ]
    },
    {
      "cell_type": "code",
      "source": [
        "import numpy as np\n",
        "import random\n",
        "def mostFreqEle(arr1):\n",
        "    flat_arr = arr1.flatten()\n",
        "    unique_elements, counts = np.unique(flat_arr, return_counts=True)\n",
        "    max_count_index = np.argmax(counts)\n",
        "    return unique_elements[max_count_index]\n",
        "if __name__ == \"__main__\":\n",
        "  arr1= np.random.randint(1,1000,size=(100,10))\n",
        "  print(arr1)\n",
        "  print(mostFreqEle(arr1))"
      ],
      "metadata": {
        "colab": {
          "base_uri": "https://localhost:8080/"
        },
        "id": "GBMq-dxDprPp",
        "outputId": "e0a1572d-36a4-420a-df4b-358aa0ada96d"
      },
      "execution_count": null,
      "outputs": [
        {
          "output_type": "stream",
          "name": "stdout",
          "text": [
            "[[130 443 167 922 693 951 453 994 961 472]\n",
            " [760 913 194 435   8  45 469 906 382 473]\n",
            " [944 619 820 397 152  22 215   8 330 877]\n",
            " [339 907 980 232 772 790 448 348 509 190]\n",
            " [262 198 205 369 480 143 843  45 527 965]\n",
            " [991 982 266 773 743  40 600 762 880 832]\n",
            " [ 67 969 344 211 790  10 673  99 276 495]\n",
            " [660 287 823 801 574 901  79 322 163 530]\n",
            " [457 892 982 543 331 507  25 518 987 952]\n",
            " [537 653 600 550 356 973 685 164 645 235]\n",
            " [759 164   8 948 901 193 428 442  89 672]\n",
            " [405 138 107 578 381 516 762 111 183 976]\n",
            " [277 613  97 416 220 106 498 563 251 140]\n",
            " [630 139 237 926 735 492 323 510 101 251]\n",
            " [850  37 110 704 724  19 363 190 400 930]\n",
            " [687  19 391 224 759 234 941 432 897 875]\n",
            " [934 672  67 691 813 129 704 992  81 548]\n",
            " [587 719 667  85 772  16 162   8 150 978]\n",
            " [536 365 889 758 871  97 327 774 673 200]\n",
            " [406 688 906 965 807 497 247 185 755 929]\n",
            " [660 716 771 504 235 935 909 806 916 749]\n",
            " [546 918 882 590 982 618 345  21 888 307]\n",
            " [238 649 759 944 692 219 505 829 646  49]\n",
            " [775 630 290 218 708 400 589 564 994 451]\n",
            " [739 370 462 646 706 719 897 113 966  15]\n",
            " [645 140  40 554 456 802  37 358 680 462]\n",
            " [880 118 537 203 900 849 399 616 333 803]\n",
            " [ 28   4 721 865 367 113 913 200 363 147]\n",
            " [909 945 598 956 106 193 743 947 200 437]\n",
            " [379 920 863 881 388   4 626 741 435 615]\n",
            " [992 612 949 954 740 242 159 500 877  75]\n",
            " [884 175 541 144 881 442 258 710 356 837]\n",
            " [459  90 400 963 432 611 987 920 399 809]\n",
            " [934 770 170 473 184 597 512 504 197 556]\n",
            " [ 71 562 486 260 258 712 832 718 726  85]\n",
            " [463 286 836 550 341 695 357 950 363 198]\n",
            " [233 959 265 300 211 322 103   4 197  69]\n",
            " [982 429 833 839 496 336 382  88 905 616]\n",
            " [622 141 116 902 472 710 141 449 929  13]\n",
            " [674  12 122 724 959 299 283 473 563  34]\n",
            " [890 875 518 738 120 819 544  38 686 710]\n",
            " [712  37 298 871 460 722 422 954 313 456]\n",
            " [799 864 565 293 918 395 698  70 761 888]\n",
            " [589 379 381  22 887 222 691 604 658 168]\n",
            " [662 162 860 517 973 945  16 170 553 378]\n",
            " [729 519 456 626 541 191 106 148 324 995]\n",
            " [929 743 756 858 448 327  21 627 668 210]\n",
            " [323 408 800 372 854  24 533 722 693 127]\n",
            " [922 414 897 388 454 950 747 885  58 861]\n",
            " [752 223 616 931 250  66 666 667 807 154]\n",
            " [826 149  24 426 163 939 143 373 828 143]\n",
            " [440 114 826 184 609 182 318 169 740 381]\n",
            " [966 547 634 452 152 378 673 901 755 649]\n",
            " [392 555 959  77 331  53 743 624 723 217]\n",
            " [675 324 975 972 953 881 792 598 779 521]\n",
            " [235 518 935 133 997 429 689 674 209 888]\n",
            " [346 174 925 624 136 123 537 873 887 410]\n",
            " [598 176 816 695 753  42  76 382 353 943]\n",
            " [632 105 773 917 229 507 112 137 521 648]\n",
            " [340 713 276 688  34  64  88 760  16 474]\n",
            " [645 918 747 185 866 309 711 437 496 316]\n",
            " [959 638 413 173  85 473 608 106 116 571]\n",
            " [552  49 609 264 158 604 843 949 218 313]\n",
            " [716 336 393 106 424 989 746 163 181 465]\n",
            " [668 210 433 538 978 295 742  74 144 169]\n",
            " [423 616 318  23 766 279 576 974 249 697]\n",
            " [789 597 448 283 590 788 940 820 639 971]\n",
            " [366 353 405 920 181 310 737 728 445 945]\n",
            " [723  56 604 671 675 766 591 565 581 999]\n",
            " [843 990 947 686 907 562 524  42 582 776]\n",
            " [559 493 409 425 792 897 750 649 290 982]\n",
            " [682 885  52 212 788 744 422 475 962 655]\n",
            " [492 628 307 318 194 195 872 212 439 503]\n",
            " [822 543 964  64 706 361 487 651 597 561]\n",
            " [968 786 191 311 713 882 265 936 396 580]\n",
            " [148  80 110 920 901 830  47  56 812  62]\n",
            " [460 195 913 848 786 230  22 737 971 922]\n",
            " [515 134 201 841 855 469 230  17 333 500]\n",
            " [ 67 400   7 325 398 490 184 207 138 405]\n",
            " [499 219 604 303 826 513  30 821  92 784]\n",
            " [594 351 505  96 594 255 595 351 581  43]\n",
            " [ 78  15 199 605 381 596 874 360 451  55]\n",
            " [347 548  77 237 116  68 537 810 259 618]\n",
            " [562 241 919 333 458 646  40 976 562 421]\n",
            " [259 938 675 796 219 287 947 224 925 569]\n",
            " [330 670 700 670  27 622 465 657 111 945]\n",
            " [767 181 443  24 226 452 913 628 533 247]\n",
            " [787 693  70 444 542 795 567  61 236 153]\n",
            " [744 283 493 723 161 929 244 963 431 789]\n",
            " [ 29 297  56 376 543 638 239 494 538 256]\n",
            " [970 744 452 112 526 511 598 821 655 844]\n",
            " [620 152 888 423 171 784 114 715 805 694]\n",
            " [705 683 142 691 652 652   7 836 330 114]\n",
            " [221 789  90 521 993 470 282 331 426 595]\n",
            " [183 681 784 835 118 663 498 646  49 904]\n",
            " [514 449 811  21 552 600 531 613 813 803]\n",
            " [447 326 780 900 716 763 352 274 409 246]\n",
            " [642 240 370 145 339 698 468  61  31 420]\n",
            " [459 525 668 330 685  27 631 520 579 336]\n",
            " [293 518 813 360 164 864 571 568 798 765]]\n",
            "106\n"
          ]
        }
      ]
    },
    {
      "cell_type": "code",
      "source": [
        "import numpy as np\n",
        "def find_outliers(data):\n",
        "  q1= np.percentile(data,25)\n",
        "  q3= np.percentile(data,75)\n",
        "  iqr=q3-q1\n",
        "  lower_bound=q1-1.5*iqr\n",
        "  upper_bound=q3+1.5*iqr\n",
        "  outliers=data[(data<lower_bound)|(data>upper_bound)]\n",
        "  return outliers\n",
        "\n",
        "data=np.random.randint(1,1000,size=(4,5))\n",
        "outlier=find_outliers(data)\n",
        "print(data)\n",
        "print(outlier)"
      ],
      "metadata": {
        "colab": {
          "base_uri": "https://localhost:8080/"
        },
        "id": "tp6wT15NyTlT",
        "outputId": "7244fac2-725e-4821-b397-5eb8d02b88a3"
      },
      "execution_count": null,
      "outputs": [
        {
          "output_type": "stream",
          "name": "stdout",
          "text": [
            "[[333 107 144 238 401]\n",
            " [102 950 466 463 566]\n",
            " [916 532  22 254 986]\n",
            " [578 374 858 119 356]]\n",
            "[]\n"
          ]
        }
      ]
    },
    {
      "cell_type": "code",
      "source": [
        "import numpy as np\n",
        "def split_arr(arr,num_subarr):\n",
        "  if len(arr)%num_subarr !=0:\n",
        "    raise ValueError(\"Invalid number of subarrays\")\n",
        "  return np.split(arr,num_subarr)\n",
        "arr=np.random.randint(1,100,size=(10))\n",
        "print(arr)\n",
        "print(split_arr(arr,2))\n"
      ],
      "metadata": {
        "colab": {
          "base_uri": "https://localhost:8080/"
        },
        "id": "FviZjIEu1mpL",
        "outputId": "409e4f0d-b537-4938-fb97-b8cf8f486cf1"
      },
      "execution_count": null,
      "outputs": [
        {
          "output_type": "stream",
          "name": "stdout",
          "text": [
            "[62  2 92 72 13 40 75 44 41 61]\n",
            "[array([62,  2, 92, 72, 13]), array([40, 75, 44, 41, 61])]\n"
          ]
        }
      ]
    },
    {
      "cell_type": "code",
      "source": [
        "import numpy as np\n",
        "def matrix_multiply(a,b):\n",
        "    if a.shape[1] != b.shape[0]:\n",
        "        raise ValueError(\"not compatible\")\n",
        "    result = np.zeros((a.shape[0], b.shape[1]))\n",
        "    for i in range(a.shape[0]):\n",
        "        for j in range(b.shape[1]):\n",
        "            for k in range(a.shape[1]):\n",
        "                result[i, j]+=a[i,k]*b[k,j]\n",
        "    return result\n",
        "a = np.array([[1, 2],[3, 4]])\n",
        "b = np.array([[5, 6],[7, 8]])\n",
        "C = matrix_multiply(a,b)\n",
        "print(C)"
      ],
      "metadata": {
        "colab": {
          "base_uri": "https://localhost:8080/"
        },
        "id": "HvvzsH4Y57hN",
        "outputId": "c78cc1a2-ac2e-4fb8-c051-39ce99e92e08"
      },
      "execution_count": null,
      "outputs": [
        {
          "output_type": "stream",
          "name": "stdout",
          "text": [
            "[[19. 22.]\n",
            " [43. 50.]]\n"
          ]
        }
      ]
    },
    {
      "cell_type": "code",
      "source": [
        "import pandas as pd\n",
        "df = pd.read_csv('employees.csv', parse_dates=['join_date'])\n",
        "target_year = 202\n",
        "df_year = df[df['join_date'].dt.year == target_year]\n",
        "monthly_counts = df_year['join_date'].dt.month.value_counts().sort_index()\n",
        "monthly_counts.index = monthly_counts.index.map(lambda x: pd.to_datetime(f'{x}', format='%m').strftime('%B'))\n",
        "print(f\"Employee join count per month for {target_year}:\\n\")\n",
        "print(monthly_counts)\n"
      ],
      "metadata": {
        "colab": {
          "base_uri": "https://localhost:8080/",
          "height": 391
        },
        "id": "6nA1Jd8767_c",
        "outputId": "607dd820-392b-4651-b993-177aeedfa02a"
      },
      "execution_count": null,
      "outputs": [
        {
          "output_type": "error",
          "ename": "FileNotFoundError",
          "evalue": "[Errno 2] No such file or directory: 'employees.csv'",
          "traceback": [
            "\u001b[0;31m---------------------------------------------------------------------------\u001b[0m",
            "\u001b[0;31mFileNotFoundError\u001b[0m                         Traceback (most recent call last)",
            "\u001b[0;32m<ipython-input-123-2b3f12d607df>\u001b[0m in \u001b[0;36m<cell line: 0>\u001b[0;34m()\u001b[0m\n\u001b[1;32m      1\u001b[0m \u001b[0;32mimport\u001b[0m \u001b[0mpandas\u001b[0m \u001b[0;32mas\u001b[0m \u001b[0mpd\u001b[0m\u001b[0;34m\u001b[0m\u001b[0;34m\u001b[0m\u001b[0m\n\u001b[0;32m----> 2\u001b[0;31m \u001b[0mdf\u001b[0m \u001b[0;34m=\u001b[0m \u001b[0mpd\u001b[0m\u001b[0;34m.\u001b[0m\u001b[0mread_csv\u001b[0m\u001b[0;34m(\u001b[0m\u001b[0;34m'employees.csv'\u001b[0m\u001b[0;34m,\u001b[0m \u001b[0mparse_dates\u001b[0m\u001b[0;34m=\u001b[0m\u001b[0;34m[\u001b[0m\u001b[0;34m'join_date'\u001b[0m\u001b[0;34m]\u001b[0m\u001b[0;34m)\u001b[0m\u001b[0;34m\u001b[0m\u001b[0;34m\u001b[0m\u001b[0m\n\u001b[0m\u001b[1;32m      3\u001b[0m \u001b[0mtarget_year\u001b[0m \u001b[0;34m=\u001b[0m \u001b[0;36m202\u001b[0m\u001b[0;34m\u001b[0m\u001b[0;34m\u001b[0m\u001b[0m\n\u001b[1;32m      4\u001b[0m \u001b[0mdf_year\u001b[0m \u001b[0;34m=\u001b[0m \u001b[0mdf\u001b[0m\u001b[0;34m[\u001b[0m\u001b[0mdf\u001b[0m\u001b[0;34m[\u001b[0m\u001b[0;34m'join_date'\u001b[0m\u001b[0;34m]\u001b[0m\u001b[0;34m.\u001b[0m\u001b[0mdt\u001b[0m\u001b[0;34m.\u001b[0m\u001b[0myear\u001b[0m \u001b[0;34m==\u001b[0m \u001b[0mtarget_year\u001b[0m\u001b[0;34m]\u001b[0m\u001b[0;34m\u001b[0m\u001b[0;34m\u001b[0m\u001b[0m\n\u001b[1;32m      5\u001b[0m \u001b[0mmonthly_counts\u001b[0m \u001b[0;34m=\u001b[0m \u001b[0mdf_year\u001b[0m\u001b[0;34m[\u001b[0m\u001b[0;34m'join_date'\u001b[0m\u001b[0;34m]\u001b[0m\u001b[0;34m.\u001b[0m\u001b[0mdt\u001b[0m\u001b[0;34m.\u001b[0m\u001b[0mmonth\u001b[0m\u001b[0;34m.\u001b[0m\u001b[0mvalue_counts\u001b[0m\u001b[0;34m(\u001b[0m\u001b[0;34m)\u001b[0m\u001b[0;34m.\u001b[0m\u001b[0msort_index\u001b[0m\u001b[0;34m(\u001b[0m\u001b[0;34m)\u001b[0m\u001b[0;34m\u001b[0m\u001b[0;34m\u001b[0m\u001b[0m\n",
            "\u001b[0;32m/usr/local/lib/python3.11/dist-packages/pandas/io/parsers/readers.py\u001b[0m in \u001b[0;36mread_csv\u001b[0;34m(filepath_or_buffer, sep, delimiter, header, names, index_col, usecols, dtype, engine, converters, true_values, false_values, skipinitialspace, skiprows, skipfooter, nrows, na_values, keep_default_na, na_filter, verbose, skip_blank_lines, parse_dates, infer_datetime_format, keep_date_col, date_parser, date_format, dayfirst, cache_dates, iterator, chunksize, compression, thousands, decimal, lineterminator, quotechar, quoting, doublequote, escapechar, comment, encoding, encoding_errors, dialect, on_bad_lines, delim_whitespace, low_memory, memory_map, float_precision, storage_options, dtype_backend)\u001b[0m\n\u001b[1;32m   1024\u001b[0m     \u001b[0mkwds\u001b[0m\u001b[0;34m.\u001b[0m\u001b[0mupdate\u001b[0m\u001b[0;34m(\u001b[0m\u001b[0mkwds_defaults\u001b[0m\u001b[0;34m)\u001b[0m\u001b[0;34m\u001b[0m\u001b[0;34m\u001b[0m\u001b[0m\n\u001b[1;32m   1025\u001b[0m \u001b[0;34m\u001b[0m\u001b[0m\n\u001b[0;32m-> 1026\u001b[0;31m     \u001b[0;32mreturn\u001b[0m \u001b[0m_read\u001b[0m\u001b[0;34m(\u001b[0m\u001b[0mfilepath_or_buffer\u001b[0m\u001b[0;34m,\u001b[0m \u001b[0mkwds\u001b[0m\u001b[0;34m)\u001b[0m\u001b[0;34m\u001b[0m\u001b[0;34m\u001b[0m\u001b[0m\n\u001b[0m\u001b[1;32m   1027\u001b[0m \u001b[0;34m\u001b[0m\u001b[0m\n\u001b[1;32m   1028\u001b[0m \u001b[0;34m\u001b[0m\u001b[0m\n",
            "\u001b[0;32m/usr/local/lib/python3.11/dist-packages/pandas/io/parsers/readers.py\u001b[0m in \u001b[0;36m_read\u001b[0;34m(filepath_or_buffer, kwds)\u001b[0m\n\u001b[1;32m    618\u001b[0m \u001b[0;34m\u001b[0m\u001b[0m\n\u001b[1;32m    619\u001b[0m     \u001b[0;31m# Create the parser.\u001b[0m\u001b[0;34m\u001b[0m\u001b[0;34m\u001b[0m\u001b[0m\n\u001b[0;32m--> 620\u001b[0;31m     \u001b[0mparser\u001b[0m \u001b[0;34m=\u001b[0m \u001b[0mTextFileReader\u001b[0m\u001b[0;34m(\u001b[0m\u001b[0mfilepath_or_buffer\u001b[0m\u001b[0;34m,\u001b[0m \u001b[0;34m**\u001b[0m\u001b[0mkwds\u001b[0m\u001b[0;34m)\u001b[0m\u001b[0;34m\u001b[0m\u001b[0;34m\u001b[0m\u001b[0m\n\u001b[0m\u001b[1;32m    621\u001b[0m \u001b[0;34m\u001b[0m\u001b[0m\n\u001b[1;32m    622\u001b[0m     \u001b[0;32mif\u001b[0m \u001b[0mchunksize\u001b[0m \u001b[0;32mor\u001b[0m \u001b[0miterator\u001b[0m\u001b[0;34m:\u001b[0m\u001b[0;34m\u001b[0m\u001b[0;34m\u001b[0m\u001b[0m\n",
            "\u001b[0;32m/usr/local/lib/python3.11/dist-packages/pandas/io/parsers/readers.py\u001b[0m in \u001b[0;36m__init__\u001b[0;34m(self, f, engine, **kwds)\u001b[0m\n\u001b[1;32m   1618\u001b[0m \u001b[0;34m\u001b[0m\u001b[0m\n\u001b[1;32m   1619\u001b[0m         \u001b[0mself\u001b[0m\u001b[0;34m.\u001b[0m\u001b[0mhandles\u001b[0m\u001b[0;34m:\u001b[0m \u001b[0mIOHandles\u001b[0m \u001b[0;34m|\u001b[0m \u001b[0;32mNone\u001b[0m \u001b[0;34m=\u001b[0m \u001b[0;32mNone\u001b[0m\u001b[0;34m\u001b[0m\u001b[0;34m\u001b[0m\u001b[0m\n\u001b[0;32m-> 1620\u001b[0;31m         \u001b[0mself\u001b[0m\u001b[0;34m.\u001b[0m\u001b[0m_engine\u001b[0m \u001b[0;34m=\u001b[0m \u001b[0mself\u001b[0m\u001b[0;34m.\u001b[0m\u001b[0m_make_engine\u001b[0m\u001b[0;34m(\u001b[0m\u001b[0mf\u001b[0m\u001b[0;34m,\u001b[0m \u001b[0mself\u001b[0m\u001b[0;34m.\u001b[0m\u001b[0mengine\u001b[0m\u001b[0;34m)\u001b[0m\u001b[0;34m\u001b[0m\u001b[0;34m\u001b[0m\u001b[0m\n\u001b[0m\u001b[1;32m   1621\u001b[0m \u001b[0;34m\u001b[0m\u001b[0m\n\u001b[1;32m   1622\u001b[0m     \u001b[0;32mdef\u001b[0m \u001b[0mclose\u001b[0m\u001b[0;34m(\u001b[0m\u001b[0mself\u001b[0m\u001b[0;34m)\u001b[0m \u001b[0;34m->\u001b[0m \u001b[0;32mNone\u001b[0m\u001b[0;34m:\u001b[0m\u001b[0;34m\u001b[0m\u001b[0;34m\u001b[0m\u001b[0m\n",
            "\u001b[0;32m/usr/local/lib/python3.11/dist-packages/pandas/io/parsers/readers.py\u001b[0m in \u001b[0;36m_make_engine\u001b[0;34m(self, f, engine)\u001b[0m\n\u001b[1;32m   1878\u001b[0m                 \u001b[0;32mif\u001b[0m \u001b[0;34m\"b\"\u001b[0m \u001b[0;32mnot\u001b[0m \u001b[0;32min\u001b[0m \u001b[0mmode\u001b[0m\u001b[0;34m:\u001b[0m\u001b[0;34m\u001b[0m\u001b[0;34m\u001b[0m\u001b[0m\n\u001b[1;32m   1879\u001b[0m                     \u001b[0mmode\u001b[0m \u001b[0;34m+=\u001b[0m \u001b[0;34m\"b\"\u001b[0m\u001b[0;34m\u001b[0m\u001b[0;34m\u001b[0m\u001b[0m\n\u001b[0;32m-> 1880\u001b[0;31m             self.handles = get_handle(\n\u001b[0m\u001b[1;32m   1881\u001b[0m                 \u001b[0mf\u001b[0m\u001b[0;34m,\u001b[0m\u001b[0;34m\u001b[0m\u001b[0;34m\u001b[0m\u001b[0m\n\u001b[1;32m   1882\u001b[0m                 \u001b[0mmode\u001b[0m\u001b[0;34m,\u001b[0m\u001b[0;34m\u001b[0m\u001b[0;34m\u001b[0m\u001b[0m\n",
            "\u001b[0;32m/usr/local/lib/python3.11/dist-packages/pandas/io/common.py\u001b[0m in \u001b[0;36mget_handle\u001b[0;34m(path_or_buf, mode, encoding, compression, memory_map, is_text, errors, storage_options)\u001b[0m\n\u001b[1;32m    871\u001b[0m         \u001b[0;32mif\u001b[0m \u001b[0mioargs\u001b[0m\u001b[0;34m.\u001b[0m\u001b[0mencoding\u001b[0m \u001b[0;32mand\u001b[0m \u001b[0;34m\"b\"\u001b[0m \u001b[0;32mnot\u001b[0m \u001b[0;32min\u001b[0m \u001b[0mioargs\u001b[0m\u001b[0;34m.\u001b[0m\u001b[0mmode\u001b[0m\u001b[0;34m:\u001b[0m\u001b[0;34m\u001b[0m\u001b[0;34m\u001b[0m\u001b[0m\n\u001b[1;32m    872\u001b[0m             \u001b[0;31m# Encoding\u001b[0m\u001b[0;34m\u001b[0m\u001b[0;34m\u001b[0m\u001b[0m\n\u001b[0;32m--> 873\u001b[0;31m             handle = open(\n\u001b[0m\u001b[1;32m    874\u001b[0m                 \u001b[0mhandle\u001b[0m\u001b[0;34m,\u001b[0m\u001b[0;34m\u001b[0m\u001b[0;34m\u001b[0m\u001b[0m\n\u001b[1;32m    875\u001b[0m                 \u001b[0mioargs\u001b[0m\u001b[0;34m.\u001b[0m\u001b[0mmode\u001b[0m\u001b[0;34m,\u001b[0m\u001b[0;34m\u001b[0m\u001b[0;34m\u001b[0m\u001b[0m\n",
            "\u001b[0;31mFileNotFoundError\u001b[0m: [Errno 2] No such file or directory: 'employees.csv'"
          ]
        }
      ]
    },
    {
      "cell_type": "code",
      "source": [
        "import pandas as pd\n",
        "data = {\n",
        "    'employee_id': [1, 2, 3, 4, 5],\n",
        "    'name': ['Alice', 'Bob', 'Charlie', 'David', 'Eva'],\n",
        "    'duration': ['01:30:00', '00:45:15', '02:15:30', '00:10:00', '03:05:45']\n",
        "}\n",
        "df = pd.DataFrame(data)\n",
        "df['total_seconds']=pd.to_timedelta(df['duration']).dt.total_seconds().astype(int)\n",
        "print(df)\n"
      ],
      "metadata": {
        "colab": {
          "base_uri": "https://localhost:8080/"
        },
        "id": "Ndl42lLw-bG6",
        "outputId": "d2d4908b-8d2f-4a8b-d494-5aae1158138c"
      },
      "execution_count": null,
      "outputs": [
        {
          "output_type": "stream",
          "name": "stdout",
          "text": [
            "   employee_id     name  duration  total_seconds\n",
            "0            1    Alice  01:30:00           5400\n",
            "1            2      Bob  00:45:15           2715\n",
            "2            3  Charlie  02:15:30           8130\n",
            "3            4    David  00:10:00            600\n",
            "4            5      Eva  03:05:45          11145\n"
          ]
        }
      ]
    },
    {
      "cell_type": "code",
      "source": [
        "import pandas as pd\n",
        "left_data = {\n",
        "    'employee_id': [1,2,3,4],\n",
        "    'department': ['HR', 'HR','Finance','IT'],\n",
        "    'name': ['Alice','Charlie','David','Eva']\n",
        "}\n",
        "left_df = pd.DataFrame(left_data)\n",
        "right_data = {\n",
        "    'employee_id': [1, 2, 4],\n",
        "    'department': ['HR', 'IT', 'Finance'],\n",
        "    'salary': [50000, 60000, 55000]\n",
        "}\n",
        "right_df =pd.DataFrame(right_data)\n",
        "merged_df= pd.merge(left_df, right_df, on=['employee_id','department'],how='left',indicator=True)\n",
        "missing_in_right=merged_df[merged_df['_merge']=='left_only']\n",
        "print(missing_in_right)\n"
      ],
      "metadata": {
        "colab": {
          "base_uri": "https://localhost:8080/"
        },
        "id": "iW1QO-vUA4mD",
        "outputId": "b79aeb97-0a86-4f94-e75a-9ec9b3ada6b2"
      },
      "execution_count": null,
      "outputs": [
        {
          "output_type": "stream",
          "name": "stdout",
          "text": [
            "   employee_id department     name  salary     _merge\n",
            "1            2         HR  Charlie     NaN  left_only\n",
            "2            3    Finance    David     NaN  left_only\n",
            "3            4         IT      Eva     NaN  left_only\n"
          ]
        }
      ]
    },
    {
      "cell_type": "code",
      "source": [
        "import pandas as pd\n",
        "import pandas as pd\n",
        "data = {\n",
        "    'user_id': [1,1,1,2,2,3,3,3,3],\n",
        "    'purchase_value': [250, 400, 100, 300, 200,150, 450,150,300]\n",
        "}\n",
        "df = pd.DataFrame(data)\n",
        "print(df)\n",
        "df_sorted=df.sort_values(['user_id','purchase_value'],ascending=[True,False])\n",
        "second_highest=df_sorted.groupby('user_id').nth(1).reset_index()\n",
        "print(second_highest)"
      ],
      "metadata": {
        "colab": {
          "base_uri": "https://localhost:8080/"
        },
        "id": "w9g4aQFqCyb-",
        "outputId": "c1e4d10a-84dd-4e7a-8ab0-0dfbdc751195"
      },
      "execution_count": null,
      "outputs": [
        {
          "output_type": "stream",
          "name": "stdout",
          "text": [
            "   user_id  purchase_value\n",
            "0        1             250\n",
            "1        1             400\n",
            "2        1             100\n",
            "3        2             300\n",
            "4        2             200\n",
            "5        3             150\n",
            "6        3             450\n",
            "7        3             150\n",
            "8        3             300\n",
            "   index  user_id  purchase_value\n",
            "0      0        1             250\n",
            "1      4        2             200\n",
            "2      8        3             300\n"
          ]
        }
      ]
    },
    {
      "cell_type": "code",
      "source": [
        "import numpy as np\n",
        "data = {\n",
        "    'customer_id': ['A','A','A','B','B','C','C', 'C','C'],\n",
        "    'order_timestamp':[\n",
        "        '2024-05-01 08:00:00','2024-05-01 09:15:00','2024-05-01 11:45:00',\n",
        "        '2024-05-01 10:00:00','2024-05-01 12:30:00',\n",
        "        '2024-05-01 07:00:00','2024-05-01 07:45:00','2024-05-01 08:15:00','2024-05-01 09:00:00'\n",
        "    ]\n",
        "}\n",
        "df=pd.DataFrame(data)\n",
        "df['order_timestamp']=pd.to_datetime(df['order_timestamp'])\n",
        "df_sorted=df.sort_values(['customer_id','order_timestamp'])\n",
        "df_sorted['time_diff']=df_sorted.groupby('customer_id')['order_timestamp'].diff()\n",
        "df_sorted['time_diff']=df_sorted['time_diff'].dt.total_seconds()/60\n",
        "print(df_sorted)\n",
        "avg_tg_per_customer=df_sorted.groupby('customer_id')['time_diff'].mean().reset_index()\n",
        "avg_tg_per_customer.rename(columns={'time_diff':'avg_time_gap_minutes'},inplace=True)\n",
        "print(avg_tg_per_customer)\n"
      ],
      "metadata": {
        "colab": {
          "base_uri": "https://localhost:8080/"
        },
        "id": "bQqiL7GKJa80",
        "outputId": "9ee740df-3c35-4641-f23d-5a155201daf7"
      },
      "execution_count": null,
      "outputs": [
        {
          "output_type": "stream",
          "name": "stdout",
          "text": [
            "  customer_id     order_timestamp  time_diff\n",
            "0           A 2024-05-01 08:00:00        NaN\n",
            "1           A 2024-05-01 09:15:00       75.0\n",
            "2           A 2024-05-01 11:45:00      150.0\n",
            "3           B 2024-05-01 10:00:00        NaN\n",
            "4           B 2024-05-01 12:30:00      150.0\n",
            "5           C 2024-05-01 07:00:00        NaN\n",
            "6           C 2024-05-01 07:45:00       45.0\n",
            "7           C 2024-05-01 08:15:00       30.0\n",
            "8           C 2024-05-01 09:00:00       45.0\n",
            "  customer_id  avg_time_gap_minutes\n",
            "0           A                 112.5\n",
            "1           B                 150.0\n",
            "2           C                  40.0\n"
          ]
        }
      ]
    },
    {
      "cell_type": "code",
      "source": [
        "import pandas as pd\n",
        "import numpy as np\n",
        "date_rng=pd.date_range(start='2024-01-01',end='2024-01-20',freq='D')\n",
        "df = pd.DataFrame(date_rng, columns=['date'])\n",
        "df['value']=np.random.randint(10,100,size=(len(date_rng)))\n",
        "df.set_index('date',inplace=True)\n",
        "df=df[df.index.dayofweek < 5]\n",
        "df['5_day_rolling_avg']=df['value'].rolling(window=5).mean()\n",
        "print(df)\n"
      ],
      "metadata": {
        "id": "H-Er_hF4POkq",
        "colab": {
          "base_uri": "https://localhost:8080/"
        },
        "outputId": "6c68ddfa-1aee-4b55-a869-d872b6d3d3db"
      },
      "execution_count": null,
      "outputs": [
        {
          "output_type": "stream",
          "name": "stdout",
          "text": [
            "            value  5_day_rolling_avg\n",
            "date                                \n",
            "2024-01-01     80                NaN\n",
            "2024-01-02     60                NaN\n",
            "2024-01-03     65                NaN\n",
            "2024-01-04     38                NaN\n",
            "2024-01-05     69               62.4\n",
            "2024-01-08     17               49.8\n",
            "2024-01-09     48               47.4\n",
            "2024-01-10     11               36.6\n",
            "2024-01-11     33               35.6\n",
            "2024-01-12     38               29.4\n",
            "2024-01-15     14               28.8\n",
            "2024-01-16     16               22.4\n",
            "2024-01-17     99               40.0\n",
            "2024-01-18     72               47.8\n",
            "2024-01-19     23               44.8\n"
          ]
        }
      ]
    },
    {
      "cell_type": "code",
      "source": [
        "import pandas as pd\n",
        "data = {\n",
        "    'date': ['2025-01-01','2025-01-02','2025-01-03','2025-01-04'],\n",
        "    'open': [100,120,150,130],\n",
        "    'close': [95,105,130,115]\n",
        "}\n",
        "df = pd.DataFrame(data)\n",
        "df['date'] = pd.to_datetime(df['date'])\n",
        "df.set_index('date', inplace=True)\n",
        "df['pct_change']=((df['close']-df['open'])/df['open'])*100\n",
        "df['drop_>10%']=df['pct_change']<-10\n",
        "print(df)\n"
      ],
      "metadata": {
        "colab": {
          "base_uri": "https://localhost:8080/"
        },
        "id": "zRS3pWcunUA1",
        "outputId": "c0e65e24-c5a9-4252-eeca-0aa0535fd1a1"
      },
      "execution_count": null,
      "outputs": [
        {
          "output_type": "stream",
          "name": "stdout",
          "text": [
            "            open  close  pct_change  drop_>10%\n",
            "date                                          \n",
            "2025-01-01   100     95   -5.000000      False\n",
            "2025-01-02   120    105  -12.500000       True\n",
            "2025-01-03   150    130  -13.333333       True\n",
            "2025-01-04   130    115  -11.538462       True\n"
          ]
        }
      ]
    },
    {
      "cell_type": "code",
      "source": [
        "import pandas as pd\n",
        "import re\n",
        "data = {\n",
        "    'text': [\n",
        "        \"#sunshine and #blueSkies today!\",\n",
        "        \"no hashtags\",\n",
        "        \"#python is great#coding #AI\",\n",
        "        \"another day,another#coffee\"\n",
        "    ]\n",
        "}\n",
        "df=pd.DataFrame(data)\n",
        "df['hashtags']=df['text'].apply(lambda x:re.findall(r'#\\w+',x))\n",
        "print(df)\n"
      ],
      "metadata": {
        "colab": {
          "base_uri": "https://localhost:8080/"
        },
        "id": "yPzsPjmJn632",
        "outputId": "6ef46858-f46e-41fb-94ef-957b25071694"
      },
      "execution_count": null,
      "outputs": [
        {
          "output_type": "stream",
          "name": "stdout",
          "text": [
            "                              text                 hashtags\n",
            "0  #sunshine and #blueSkies today!  [#sunshine, #blueSkies]\n",
            "1                      no hashtags                       []\n",
            "2      #python is great#coding #AI  [#python, #coding, #AI]\n",
            "3       another day,another#coffee                [#coffee]\n"
          ]
        }
      ]
    }
  ]
}